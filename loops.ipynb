{
 "cells": [
  {
   "cell_type": "code",
   "execution_count": 1,
   "metadata": {
    "scrolled": true
   },
   "outputs": [],
   "source": [
    "inputlist = [1,2,4,67,8,0]\n",
    "#input = [\"Hello\",\"coep\"]\n",
    "#inputlist.append(45)\n",
    "\n",
    "#print(len(inputlist))\n",
    "#print(inputlist)\n",
    "\n",
    "#for i in inputlist:\n",
    " #   i += 2\n",
    "  #  print(i)\n",
    "    \n",
    "#print(inputlist[0])\n",
    "#print(range(4))\n",
    "#for index in range(len(inputlist)):   #index iteration\n",
    " #   print(index,inputlist[index])\n",
    "#while(True):\n",
    " #   print(\"in while loop\")\n",
    "counter = 0\n",
    "while(counter < 0):\n",
    "    counter += 1\n",
    "    print(\"In loop\")"
   ]
  },
  {
   "cell_type": "code",
   "execution_count": 1,
   "metadata": {},
   "outputs": [],
   "source": [
    "#inputlist = [1,2,4,67,8,0]\n",
    "counter = 0\n",
    "while(counter < 0):\n",
    "    counter += 1\n",
    "    print(\"In loop\")"
   ]
  },
  {
   "cell_type": "code",
   "execution_count": null,
   "metadata": {},
   "outputs": [],
   "source": []
  }
 ],
 "metadata": {
  "kernelspec": {
   "display_name": "Python 3",
   "language": "python",
   "name": "python3"
  },
  "language_info": {
   "codemirror_mode": {
    "name": "ipython",
    "version": 3
   },
   "file_extension": ".py",
   "mimetype": "text/x-python",
   "name": "python",
   "nbconvert_exporter": "python",
   "pygments_lexer": "ipython3",
   "version": "3.7.4"
  }
 },
 "nbformat": 4,
 "nbformat_minor": 4
}
