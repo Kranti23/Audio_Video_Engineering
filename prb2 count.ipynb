{
 "cells": [
  {
   "cell_type": "code",
   "execution_count": 8,
   "metadata": {},
   "outputs": [
    {
     "name": "stdout",
     "output_type": "stream",
     "text": [
      "3\n",
      "3\n"
     ]
    }
   ],
   "source": [
    "GivenList = [5, 12, 14, 15, 13, 18]\n",
    "Evencount , Oddcount = 0, 0\n",
    "#iterating each element in the list\n",
    "for i in GivenList:\n",
    "    if i % 2 == 0:\n",
    "        Evencount += 1\n",
    "    else:\n",
    "        Oddcount += 1\n",
    "        \n",
    "print(Evencount)\n",
    "print(Oddcount)"
   ]
  },
  {
   "cell_type": "code",
   "execution_count": null,
   "metadata": {},
   "outputs": [],
   "source": []
  }
 ],
 "metadata": {
  "kernelspec": {
   "display_name": "Python 3",
   "language": "python",
   "name": "python3"
  },
  "language_info": {
   "codemirror_mode": {
    "name": "ipython",
    "version": 3
   },
   "file_extension": ".py",
   "mimetype": "text/x-python",
   "name": "python",
   "nbconvert_exporter": "python",
   "pygments_lexer": "ipython3",
   "version": "3.7.4"
  }
 },
 "nbformat": 4,
 "nbformat_minor": 4
}
