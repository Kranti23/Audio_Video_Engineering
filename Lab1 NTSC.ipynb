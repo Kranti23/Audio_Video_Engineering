{
 "cells": [
  {
   "cell_type": "code",
   "execution_count": null,
   "metadata": {},
   "outputs": [],
   "source": []
  },
  {
   "cell_type": "code",
   "execution_count": 4,
   "metadata": {},
   "outputs": [
    {
     "name": "stdout",
     "output_type": "stream",
     "text": [
      "R= [[155  86  72  57  83]\n",
      " [ 92 237 132  59 118]\n",
      " [231 118 118  33 157]\n",
      " [ 67  25  41 239 185]\n",
      " [229 153 195  78 156]]\n",
      "G= [[ 30 180  93  64  21]\n",
      " [102  82 200 248 176]\n",
      " [208  34 150  24  95]\n",
      " [ 17 251 191 170  19]\n",
      " [230 221  21  53 113]]\n",
      "B= [[204  12  35 161 114]\n",
      " [ 26 253 252  43  79]\n",
      " [214  38  68 192 240]\n",
      " [253 183 236  29 125]\n",
      " [236 196 166  54 155]]\n",
      "I= [[  19.32   -2.64    5.96  -35.24    7.44]\n",
      " [  18.32   38.28  -57.44  -47.8    -3.76]\n",
      " [  11.88   49.12    7.04  -48.36   -9.2 ]\n",
      " [ -45.52 -113.84 -104.4    86.52   65.68]\n",
      " [  -2.52  -32.8    58.     14.68   12.36]]\n",
      "Q= [[ -46.29  -79.26  -44.09  -71.22  -28.83]\n",
      " [ -41.78  -71.3  -154.4  -129.9   -91.23]\n",
      " [-125.99   -4.68  -74.3   -65.07  -90.83]\n",
      " [ -73.2  -182.   -163.87  -47.2    -9.78]\n",
      " [-144.67 -143.55  -21.43  -27.92  -74.05]]\n"
     ]
    }
   ],
   "source": [
    "import numpy as np\n",
    "R = np.random.randint(1,257, size=(5, 5))\n",
    "G = np.random.randint(1,257, size=(5, 5))\n",
    "B = np.random.randint(1,257, size=(5, 5))\n",
    "print(\"R=\",R)\n",
    "print(\"G=\",G)\n",
    "print(\"B=\",B)\n",
    "I = 0.6*R - 0.28*G - 0.32*B\n",
    "Q = 0.21*R - 0.52*G - 0.31*B\n",
    "print(\"I=\",I)\n",
    "print(\"Q=\",Q)\n",
    "\n",
    "#R=np.array([[1,2,3,4,5],[1,2,3,4,5],[1,2,3,4,5],[1,2,3,4,5],[1,2,3,4,5]])\n",
    "#G=np.array([[1,2,3,4,5],[1,2,3,4,5],[1,2,3,4,5],[1,2,3,4,5],[1,2,3,4,5]])\n",
    "#B=np.array([[1,2,3,4,5],[1,2,3,4,5],[1,2,3,4,5],[1,2,3,4,5],[1,2,3,4,5]])\n",
    "#R[1][1]\n",
    "#for i in range (0,5)   \n",
    " #for j in range (0,5)\n",
    "    #I[i][j]=.6*R[i],[j]-.20*G[i][j]-.32B[i][j]\n",
    "#r=np.array([[R,R],[R,R]])    //data concatenation(10X10) array\n"
   ]
  },
  {
   "cell_type": "code",
   "execution_count": null,
   "metadata": {},
   "outputs": [],
   "source": []
  }
 ],
 "metadata": {
  "kernelspec": {
   "display_name": "Python 3",
   "language": "python",
   "name": "python3"
  },
  "language_info": {
   "codemirror_mode": {
    "name": "ipython",
    "version": 3
   },
   "file_extension": ".py",
   "mimetype": "text/x-python",
   "name": "python",
   "nbconvert_exporter": "python",
   "pygments_lexer": "ipython3",
   "version": "3.7.4"
  }
 },
 "nbformat": 4,
 "nbformat_minor": 4
}
