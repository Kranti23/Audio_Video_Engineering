{
 "cells": [
  {
   "cell_type": "code",
   "execution_count": 5,
   "metadata": {},
   "outputs": [],
   "source": [
    "def rgb_to_hsv(r,g,b):\n",
    "    #R,G,B values are divided by 255 to change the range from 0..255 to 0..1:\n",
    "    r,g,b=r/255.0,g/255.0,b/255.0\n",
    "    \n",
    "    #h,s,v=hue saturation value\n",
    "    cmax=max(r,g,b)      #maximum of r,g,b\n",
    "    cmin=min(r,g,b)      #maximum of r,g,b\n",
    "    diff=cmax-cmin      \n",
    "    \n",
    "    if cmax == cmin:\n",
    "        h = 0\n",
    "    #if cmax equal r then compute h\n",
    "    elif cmax == r:\n",
    "        h = (60*((g-b)/diff )+ 360) % 360\n",
    "        \n",
    "        #if cmax equal g then compute h\n",
    "    elif cmax == g:\n",
    "        h = (60*((b-r)/diff )+ 120) % 360\n",
    "        \n",
    "        #if cmax equal b then compute h\n",
    "    elif cmax == b:\n",
    "        h = (60*((r-g)/diff )+ 240) % 360\n",
    "        \n",
    "        #if cmax equal zero \n",
    "        if cmax == 0:\n",
    "            s = 0\n",
    "        else:\n",
    "                s=(diff/cmax)*100\n",
    "                \n",
    "                #compute v\n",
    "                v=cmax*100\n",
    "                return h,s,v\n",
    "            \n",
    "    print(rgb_to_hsv(129,88,47))\n",
    "       "
   ]
  },
  {
   "cell_type": "code",
   "execution_count": null,
   "metadata": {},
   "outputs": [],
   "source": []
  }
 ],
 "metadata": {
  "kernelspec": {
   "display_name": "Python 3",
   "language": "python",
   "name": "python3"
  },
  "language_info": {
   "codemirror_mode": {
    "name": "ipython",
    "version": 3
   },
   "file_extension": ".py",
   "mimetype": "text/x-python",
   "name": "python",
   "nbconvert_exporter": "python",
   "pygments_lexer": "ipython3",
   "version": "3.7.4"
  }
 },
 "nbformat": 4,
 "nbformat_minor": 4
}
