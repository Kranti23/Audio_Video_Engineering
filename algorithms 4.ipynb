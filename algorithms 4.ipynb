{
 "cells": [
  {
   "cell_type": "code",
   "execution_count": 1,
   "metadata": {},
   "outputs": [
    {
     "name": "stdout",
     "output_type": "stream",
     "text": [
      "45\n"
     ]
    }
   ],
   "source": [
    "n = 45\n",
    "print(n)"
   ]
  },
  {
   "cell_type": "code",
   "execution_count": 9,
   "metadata": {},
   "outputs": [
    {
     "ename": "SyntaxError",
     "evalue": "invalid syntax (<ipython-input-9-fc211b8db8b4>, line 4)",
     "output_type": "error",
     "traceback": [
      "\u001b[1;36m  File \u001b[1;32m\"<ipython-input-9-fc211b8db8b4>\"\u001b[1;36m, line \u001b[1;32m4\u001b[0m\n\u001b[1;33m    for(minIndex=0; minIndex < len(numbers) ; ++minIndex):\u001b[0m\n\u001b[1;37m                ^\u001b[0m\n\u001b[1;31mSyntaxError\u001b[0m\u001b[1;31m:\u001b[0m invalid syntax\n"
     ]
    }
   ],
   "source": [
    "def selectionsort(numbers):\n",
    "#x = (len(selectionsort))\n",
    "#print(x)\n",
    "    for(minIndex=0; minIndex < len(numbers) ; ++minIndex):\n",
    "        for(currIndex = minIndex+1; currIndex < len(selectionsort); ++currIndex):\n",
    "            if(array[currIndex] < arr[minIndex]):\n",
    "                newMin = array[currIndex]\n",
    "                array[currIndex] = array[minIndex]\n",
    "                array[minIndex] = newMin\n",
    "numbers = [34,56,567,89,9097,234]\n",
    "print(selectionsort(numbers))"
   ]
  },
  {
   "cell_type": "code",
   "execution_count": 10,
   "metadata": {},
   "outputs": [
    {
     "name": "stdout",
     "output_type": "stream",
     "text": [
      "-4\n"
     ]
    }
   ],
   "source": [
    "givenlist = [2,5,678,9,-2,-4]\n",
    "currMin = 100000\n",
    "for currNumber in givenlist:\n",
    "    if currNumber < currMin:\n",
    "        currMin = currNumber\n",
    "print(currMin)\n",
    "#timecompexity of findmin\n",
    "# input a list of numbers\n",
    "#scenario1 - 10 numbers and suppose t1 = ms\n",
    "#scenario2 - 100 numbers t2 = ms"
   ]
  },
  {
   "cell_type": "code",
   "execution_count": 19,
   "metadata": {},
   "outputs": [
    {
     "name": "stdout",
     "output_type": "stream",
     "text": [
      "7\n",
      "90\n",
      "the sum is : 97\n"
     ]
    }
   ],
   "source": [
    "firstnum = int(input()) #c1\n",
    "secondnum = int(input())  #c2\n",
    "sum = firstnum + secondnum  #c3\n",
    "print(\"the sum is :\",sum)  #c4\n",
    "#time complexity is O(n)=1 since c1+c2+c3+c4=c5 "
   ]
  },
  {
   "cell_type": "code",
   "execution_count": 35,
   "metadata": {},
   "outputs": [
    {
     "name": "stdout",
     "output_type": "stream",
     "text": [
      "5\n"
     ]
    },
    {
     "ename": "TypeError",
     "evalue": "object of type 'int' has no len()",
     "output_type": "error",
     "traceback": [
      "\u001b[1;31m---------------------------------------------------------------------------\u001b[0m",
      "\u001b[1;31mTypeError\u001b[0m                                 Traceback (most recent call last)",
      "\u001b[1;32m<ipython-input-35-08c1a0a9777f>\u001b[0m in \u001b[0;36m<module>\u001b[1;34m\u001b[0m\n\u001b[0;32m      1\u001b[0m \u001b[0mFibonacciSequence\u001b[0m \u001b[1;33m=\u001b[0m \u001b[0mint\u001b[0m\u001b[1;33m(\u001b[0m\u001b[0minput\u001b[0m\u001b[1;33m(\u001b[0m\u001b[1;33m)\u001b[0m\u001b[1;33m)\u001b[0m\u001b[1;33m\u001b[0m\u001b[1;33m\u001b[0m\u001b[0m\n\u001b[0;32m      2\u001b[0m \u001b[1;31m#for sequnce in FibonacciSequence:\u001b[0m\u001b[1;33m\u001b[0m\u001b[1;33m\u001b[0m\u001b[1;33m\u001b[0m\u001b[0m\n\u001b[1;32m----> 3\u001b[1;33m \u001b[1;32mfor\u001b[0m \u001b[0mi\u001b[0m \u001b[1;32min\u001b[0m \u001b[0mrange\u001b[0m\u001b[1;33m(\u001b[0m\u001b[0mlen\u001b[0m\u001b[1;33m(\u001b[0m\u001b[0mFibonacciSequence\u001b[0m\u001b[1;33m)\u001b[0m\u001b[1;33m)\u001b[0m\u001b[1;33m:\u001b[0m\u001b[1;33m\u001b[0m\u001b[1;33m\u001b[0m\u001b[0m\n\u001b[0m\u001b[0;32m      4\u001b[0m        \u001b[0mprint\u001b[0m\u001b[1;33m(\u001b[0m\u001b[0mfn\u001b[0m \u001b[1;33m=\u001b[0m \u001b[0mf\u001b[0m\u001b[1;33m(\u001b[0m\u001b[0mn\u001b[0m\u001b[1;33m-\u001b[0m\u001b[1;36m1\u001b[0m\u001b[1;33m)\u001b[0m \u001b[1;33m+\u001b[0m \u001b[0mf\u001b[0m\u001b[1;33m(\u001b[0m\u001b[0mn\u001b[0m \u001b[1;33m-\u001b[0m \u001b[1;36m2\u001b[0m\u001b[1;33m)\u001b[0m\u001b[1;33m)\u001b[0m\u001b[1;33m\u001b[0m\u001b[1;33m\u001b[0m\u001b[0m\n\u001b[0;32m      5\u001b[0m   \u001b[1;31m#     print(sequence)\u001b[0m\u001b[1;33m\u001b[0m\u001b[1;33m\u001b[0m\u001b[1;33m\u001b[0m\u001b[0m\n",
      "\u001b[1;31mTypeError\u001b[0m: object of type 'int' has no len()"
     ]
    }
   ],
   "source": [
    " FibonacciSequence = int(input())\n",
    "#for sequnce in FibonacciSequence:\n",
    "for i in range(len(FibonacciSequence)):\n",
    "        print(fn = f(n-1) + f(n - 2))\n",
    "   #     print(sequence)\n",
    "print(Fibonaccisequence)\n",
    "            "
   ]
  },
  {
   "cell_type": "code",
   "execution_count": 37,
   "metadata": {},
   "outputs": [
    {
     "name": "stdout",
     "output_type": "stream",
     "text": [
      "How many integers:5\n",
      "Fibonacci Sequence :\n",
      "0\n",
      "1\n",
      "1\n",
      "2\n",
      "3\n"
     ]
    }
   ],
   "source": [
    "nintegers = int(input(\"How many integers:\"))\n",
    "#first two terms\n",
    "f0 = 0\n",
    "f1 = 1       \n",
    "count = 0\n",
    "\n",
    "#checking if the number of terms is valid or not\n",
    "if nintegers <= 0:\n",
    "    print(\"enter a positive number\")\n",
    "elif nintegers == 1:\n",
    "    print(\"Fibonacci sequence :\", nintegers)\n",
    "    print(f0)\n",
    "else:\n",
    "    print(\"Fibonacci Sequence :\")\n",
    "    while count < nintegers:\n",
    "        print(f0)\n",
    "        nth = f0 + f1\n",
    "        f0 = f1\n",
    "        f1 = nth\n",
    "        count += 1"
   ]
  },
  {
   "cell_type": "code",
   "execution_count": null,
   "metadata": {},
   "outputs": [],
   "source": []
  }
 ],
 "metadata": {
  "kernelspec": {
   "display_name": "Python 3",
   "language": "python",
   "name": "python3"
  },
  "language_info": {
   "codemirror_mode": {
    "name": "ipython",
    "version": 3
   },
   "file_extension": ".py",
   "mimetype": "text/x-python",
   "name": "python",
   "nbconvert_exporter": "python",
   "pygments_lexer": "ipython3",
   "version": "3.7.4"
  }
 },
 "nbformat": 4,
 "nbformat_minor": 4
}
