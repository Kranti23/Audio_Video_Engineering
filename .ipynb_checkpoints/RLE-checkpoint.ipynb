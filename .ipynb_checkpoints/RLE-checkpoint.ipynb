{
 "cells": [
  {
   "cell_type": "code",
   "execution_count": null,
   "metadata": {},
   "outputs": [],
   "source": [
    "def encode(message):\n",
    "    encoded_message = \"\"\n",
    "    i = 0\n",
    "    \n",
    "    while (i <= len(message)-1):\n",
    "        count = 1\n",
    "        ch = message[i]\n",
    "        j = i\n",
    "        while (j < len(message)-1):\n",
    "            if (message[j] == message[j+1]):\n",
    "                count = count + 1\n",
    "                j = j+1\n",
    "            else:\n",
    "                break\n",
    "            encoded_message=encoded_message+str(count)+ch\n",
    "            i = j+1\n",
    "    return encoded_message\n",
    "\n",
    "#provide different values\n",
    "encoded_message=encode(\"AABBCCCAABDDDDDIIIIDDDDJJJJJDEEEEEE\")\n",
    "print(encoded_message)"
   ]
  },
  {
   "cell_type": "code",
   "execution_count": null,
   "metadata": {},
   "outputs": [],
   "source": []
  }
 ],
 "metadata": {
  "kernelspec": {
   "display_name": "Python 3",
   "language": "python",
   "name": "python3"
  },
  "language_info": {
   "codemirror_mode": {
    "name": "ipython",
    "version": 3
   },
   "file_extension": ".py",
   "mimetype": "text/x-python",
   "name": "python",
   "nbconvert_exporter": "python",
   "pygments_lexer": "ipython3",
   "version": "3.7.4"
  }
 },
 "nbformat": 4,
 "nbformat_minor": 4
}
