{
 "cells": [
  {
   "cell_type": "code",
   "execution_count": 13,
   "metadata": {},
   "outputs": [
    {
     "ename": "NameError",
     "evalue": "name 'n' is not defined",
     "output_type": "error",
     "traceback": [
      "\u001b[1;31m---------------------------------------------------------------------------\u001b[0m",
      "\u001b[1;31mNameError\u001b[0m                                 Traceback (most recent call last)",
      "\u001b[1;32m<ipython-input-13-8886b01377fa>\u001b[0m in \u001b[0;36m<module>\u001b[1;34m\u001b[0m\n\u001b[0;32m     34\u001b[0m                 \u001b[0mrow\u001b[0m \u001b[1;33m-=\u001b[0m \u001b[1;36m1\u001b[0m\u001b[1;33m\u001b[0m\u001b[1;33m\u001b[0m\u001b[0m\n\u001b[0;32m     35\u001b[0m  \u001b[1;31m#print concatenation of all rows\u001b[0m\u001b[1;33m\u001b[0m\u001b[1;33m\u001b[0m\u001b[1;33m\u001b[0m\u001b[0m\n\u001b[1;32m---> 36\u001b[1;33m \u001b[1;32mfor\u001b[0m \u001b[0mi\u001b[0m \u001b[1;32min\u001b[0m \u001b[0mrange\u001b[0m\u001b[1;33m(\u001b[0m\u001b[0mn\u001b[0m\u001b[1;33m)\u001b[0m\u001b[1;33m:\u001b[0m\u001b[1;33m\u001b[0m\u001b[1;33m\u001b[0m\u001b[0m\n\u001b[0m\u001b[0;32m     37\u001b[0m     \u001b[0mprint\u001b[0m\u001b[1;33m(\u001b[0m\u001b[0marr\u001b[0m\u001b[1;33m[\u001b[0m\u001b[0mi\u001b[0m\u001b[1;33m]\u001b[0m\u001b[1;33m,\u001b[0m\u001b[0mend\u001b[0m \u001b[1;33m=\u001b[0m \u001b[1;34m\"\"\u001b[0m\u001b[1;33m)\u001b[0m\u001b[1;33m\u001b[0m\u001b[1;33m\u001b[0m\u001b[0m\n\u001b[0;32m     38\u001b[0m \u001b[1;33m\u001b[0m\u001b[0m\n",
      "\u001b[1;31mNameError\u001b[0m: name 'n' is not defined"
     ]
    }
   ],
   "source": [
    "# rows of zigzag fashion\n",
    "\n",
    "def printZigZagConcat(str,n):\n",
    "    # Corner Case(Only one row)\n",
    "    if n == 1:\n",
    "        print(str)\n",
    "        return\n",
    "    \n",
    "    #Find the length of the string\n",
    "    l = len(str)\n",
    "    #create an array of strings for all n rows\n",
    "    arr=[\"\"for x in range(l)]\n",
    "    \n",
    "    #initialize index for array of strings arr[]\n",
    "    row = 0\n",
    "    \n",
    "    #Traverse through the given string\n",
    "    for i in range(l):\n",
    "        \n",
    "        #append current character to current row\n",
    "        arr[row] += str[i]\n",
    "        \n",
    "        #if last row is reached,change direction to up\n",
    "        if row == n-1:\n",
    "            down = False\n",
    "            \n",
    "        #if first row is reached change direction to down\n",
    "        elif row == 0:\n",
    "            down = True\n",
    "        #if direction is down,increment,else decrement\n",
    "        if down:\n",
    "            row += 1\n",
    "        else:\n",
    "                row -= 1\n",
    " #print concatenation of all rows\n",
    "    if n == 1:\n",
    "        print(str)\n",
    "        return\n",
    "    \n",
    "for i in range(n):\n",
    "    print(arr[i],end = \"\")\n",
    "    \n",
    "    str = \"GEEKSFORGEEKS\"\n",
    "    n = 3\n",
    "    printZigZagConcat(str,n)\n",
    "            "
   ]
  },
  {
   "cell_type": "code",
   "execution_count": null,
   "metadata": {},
   "outputs": [],
   "source": []
  }
 ],
 "metadata": {
  "kernelspec": {
   "display_name": "Python 3",
   "language": "python",
   "name": "python3"
  },
  "language_info": {
   "codemirror_mode": {
    "name": "ipython",
    "version": 3
   },
   "file_extension": ".py",
   "mimetype": "text/x-python",
   "name": "python",
   "nbconvert_exporter": "python",
   "pygments_lexer": "ipython3",
   "version": "3.7.4"
  }
 },
 "nbformat": 4,
 "nbformat_minor": 4
}
